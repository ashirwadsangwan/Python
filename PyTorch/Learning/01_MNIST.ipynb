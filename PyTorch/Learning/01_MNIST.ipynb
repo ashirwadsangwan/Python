{
  "nbformat": 4,
  "nbformat_minor": 0,
  "metadata": {
    "colab": {
      "name": "01-MNIST.ipynb",
      "version": "0.3.2",
      "provenance": [],
      "include_colab_link": true
    },
    "kernelspec": {
      "name": "python3",
      "display_name": "Python 3"
    },
    "accelerator": "GPU"
  },
  "cells": [
    {
      "cell_type": "markdown",
      "metadata": {
        "id": "view-in-github",
        "colab_type": "text"
      },
      "source": [
        "<a href=\"https://colab.research.google.com/github/ashirwadsangwan/Python/blob/master/PyTorch/01_MNIST.ipynb\" target=\"_parent\"><img src=\"https://colab.research.google.com/assets/colab-badge.svg\" alt=\"Open In Colab\"/></a>"
      ]
    },
    {
      "cell_type": "code",
      "metadata": {
        "id": "35W0bRPC-NgI",
        "colab_type": "code",
        "colab": {}
      },
      "source": [
        "import torch\n",
        "from torchvision import datasets, transforms\n",
        "from matplotlib import pyplot as plt"
      ],
      "execution_count": 0,
      "outputs": []
    },
    {
      "cell_type": "code",
      "metadata": {
        "id": "DYA44nGT-kOB",
        "colab_type": "code",
        "colab": {}
      },
      "source": [
        "transform = transforms.Compose([transforms.ToTensor(),\n",
        "                                transforms.Normalize((0.5,),(0.5,)),\n",
        "                               ])"
      ],
      "execution_count": 0,
      "outputs": []
    },
    {
      "cell_type": "code",
      "metadata": {
        "id": "GLpz4n3-_N-y",
        "colab_type": "code",
        "colab": {
          "base_uri": "https://localhost:8080/",
          "height": 272
        },
        "outputId": "213c2e64-4c8b-4f68-d6dd-51e080b5dde9"
      },
      "source": [
        "trainset = datasets.MNIST(\"MNIST_data/\", download=True, train = True, transform = transform)\n",
        "train_loader = torch.utils.data.DataLoader(trainset, batch_size=64, shuffle=True)"
      ],
      "execution_count": 3,
      "outputs": [
        {
          "output_type": "stream",
          "text": [
            "\r0it [00:00, ?it/s]"
          ],
          "name": "stderr"
        },
        {
          "output_type": "stream",
          "text": [
            "Downloading http://yann.lecun.com/exdb/mnist/train-images-idx3-ubyte.gz to MNIST_data/MNIST/raw/train-images-idx3-ubyte.gz\n"
          ],
          "name": "stdout"
        },
        {
          "output_type": "stream",
          "text": [
            "9920512it [00:01, 8464311.90it/s]                            \n"
          ],
          "name": "stderr"
        },
        {
          "output_type": "stream",
          "text": [
            "Extracting MNIST_data/MNIST/raw/train-images-idx3-ubyte.gz\n"
          ],
          "name": "stdout"
        },
        {
          "output_type": "stream",
          "text": [
            "  0%|          | 0/28881 [00:00<?, ?it/s]"
          ],
          "name": "stderr"
        },
        {
          "output_type": "stream",
          "text": [
            "Downloading http://yann.lecun.com/exdb/mnist/train-labels-idx1-ubyte.gz to MNIST_data/MNIST/raw/train-labels-idx1-ubyte.gz\n"
          ],
          "name": "stdout"
        },
        {
          "output_type": "stream",
          "text": [
            "32768it [00:00, 134499.73it/s]           \n",
            "  0%|          | 0/1648877 [00:00<?, ?it/s]"
          ],
          "name": "stderr"
        },
        {
          "output_type": "stream",
          "text": [
            "Extracting MNIST_data/MNIST/raw/train-labels-idx1-ubyte.gz\n",
            "Downloading http://yann.lecun.com/exdb/mnist/t10k-images-idx3-ubyte.gz to MNIST_data/MNIST/raw/t10k-images-idx3-ubyte.gz\n"
          ],
          "name": "stdout"
        },
        {
          "output_type": "stream",
          "text": [
            "1654784it [00:00, 2211909.62it/s]                            \n",
            "0it [00:00, ?it/s]"
          ],
          "name": "stderr"
        },
        {
          "output_type": "stream",
          "text": [
            "Extracting MNIST_data/MNIST/raw/t10k-images-idx3-ubyte.gz\n",
            "Downloading http://yann.lecun.com/exdb/mnist/t10k-labels-idx1-ubyte.gz to MNIST_data/MNIST/raw/t10k-labels-idx1-ubyte.gz\n"
          ],
          "name": "stdout"
        },
        {
          "output_type": "stream",
          "text": [
            "8192it [00:00, 50679.72it/s]            \n"
          ],
          "name": "stderr"
        },
        {
          "output_type": "stream",
          "text": [
            "Extracting MNIST_data/MNIST/raw/t10k-labels-idx1-ubyte.gz\n",
            "Processing...\n",
            "Done!\n"
          ],
          "name": "stdout"
        }
      ]
    },
    {
      "cell_type": "code",
      "metadata": {
        "id": "rDdv5LTN_1GH",
        "colab_type": "code",
        "colab": {}
      },
      "source": [
        "data_iter = iter(train_loader)\n",
        "images, labels = data_iter.next()"
      ],
      "execution_count": 0,
      "outputs": []
    },
    {
      "cell_type": "code",
      "metadata": {
        "id": "afaiaL3lArs7",
        "colab_type": "code",
        "colab": {
          "base_uri": "https://localhost:8080/",
          "height": 34
        },
        "outputId": "6d242d5e-3585-416a-94aa-49b705cdc3f9"
      },
      "source": [
        "images.shape"
      ],
      "execution_count": 5,
      "outputs": [
        {
          "output_type": "execute_result",
          "data": {
            "text/plain": [
              "torch.Size([64, 1, 28, 28])"
            ]
          },
          "metadata": {
            "tags": []
          },
          "execution_count": 5
        }
      ]
    },
    {
      "cell_type": "code",
      "metadata": {
        "id": "-FLS7iEuCCtO",
        "colab_type": "code",
        "colab": {
          "base_uri": "https://localhost:8080/",
          "height": 34
        },
        "outputId": "c97f9a98-d4be-4370-aa89-bdde9e5649dc"
      },
      "source": [
        "labels.shape"
      ],
      "execution_count": 6,
      "outputs": [
        {
          "output_type": "execute_result",
          "data": {
            "text/plain": [
              "torch.Size([64])"
            ]
          },
          "metadata": {
            "tags": []
          },
          "execution_count": 6
        }
      ]
    },
    {
      "cell_type": "code",
      "metadata": {
        "id": "ruJCYg2ICE50",
        "colab_type": "code",
        "colab": {
          "base_uri": "https://localhost:8080/",
          "height": 269
        },
        "outputId": "e48840f7-ce93-4a71-b7d0-75fc02e2e596"
      },
      "source": [
        "plt.imshow(images[1].numpy().squeeze(), cmap=\"Greys_r\");"
      ],
      "execution_count": 7,
      "outputs": [
        {
          "output_type": "display_data",
          "data": {
            "image/png": "[encoded data removed]",
            "text/plain": [
              "<Figure size 432x288 with 1 Axes>"
            ]
          },
          "metadata": {
            "tags": []
          }
        }
      ]
    },
    {
      "cell_type": "code",
      "metadata": {
        "id": "xLBjMrDHCc--",
        "colab_type": "code",
        "colab": {}
      },
      "source": [
        "def activation(x):\n",
        "    \n",
        "    '''\n",
        "    This is Sigmoid activation function.\n",
        "    \n",
        "    Input : Tensor\n",
        "    '''\n",
        "    return 1/(1 + torch.exp(-x))"
      ],
      "execution_count": 0,
      "outputs": []
    },
    {
      "cell_type": "code",
      "metadata": {
        "id": "dDhVTx_SF8Xj",
        "colab_type": "code",
        "colab": {}
      },
      "source": [
        "# flatten the input images\n",
        "inputs = images.view(images.shape[0],-1)\n",
        "\n",
        "# create parameters\n",
        "\n",
        "w1 = torch.randn(784, 256)\n",
        "b1 = torch.randn(256)\n",
        "\n",
        "w2 = torch.randn(256, 10)\n",
        "b2 = torch.randn(10)\n",
        "\n",
        "hidden = activation(torch.mm(inputs, w1) + b1)\n",
        "out = torch.mm(hidden, w2) + b2"
      ],
      "execution_count": 0,
      "outputs": []
    },
    {
      "cell_type": "code",
      "metadata": {
        "id": "n4ondXfAG2kL",
        "colab_type": "code",
        "colab": {
          "base_uri": "https://localhost:8080/",
          "height": 1000
        },
        "outputId": "6dfa5260-d374-4d48-f724-06f2b19fde51"
      },
      "source": [
        "print(out)"
      ],
      "execution_count": 10,
      "outputs": [
        {
          "output_type": "stream",
          "text": [
            "tensor([[ 8.2782e+00, -1.0481e+01,  3.7454e-01, -7.1249e+00,  1.2700e+01,\n",
            "         -6.1765e-01, -5.4672e+00,  1.5207e+01, -9.6884e+00,  8.5280e+00],\n",
            "        [ 6.3777e+00, -1.1625e+00, -8.2598e+00, -9.8269e+00,  8.6550e+00,\n",
            "          3.5632e+00, -1.3105e+01,  5.2419e+00, -3.1416e+00,  6.2755e+00],\n",
            "        [ 1.9395e+01, -5.0900e+00, -4.0506e+00, -7.0152e+00,  1.9238e+01,\n",
            "         -2.1924e-01, -1.2922e+01,  6.5586e+00,  4.8023e+00,  5.6764e-01],\n",
            "        [ 1.0499e+01, -7.8110e+00, -1.5477e+01, -9.8409e+00,  6.9289e+00,\n",
            "         -3.8658e-01, -1.3892e+01,  6.9636e+00, -1.4090e+01,  1.6060e+00],\n",
            "        [ 8.1689e+00, -1.0380e+00, -5.5181e+00, -3.6431e+00,  7.7968e+00,\n",
            "          9.2228e-01, -1.6290e+01,  7.8133e+00, -5.9124e+00,  1.3203e+01],\n",
            "        [ 1.5446e+01, -9.8828e+00, -1.4408e+00, -1.0210e+01,  1.3462e+01,\n",
            "         -9.1376e+00, -1.3455e+01,  7.7150e+00, -2.6062e+00,  7.9999e+00],\n",
            "        [ 1.3640e+01, -6.4614e+00, -4.0424e+00, -1.4608e+01,  2.0035e+01,\n",
            "         -7.0210e+00, -1.9482e+01,  1.5427e+01, -4.2713e+00,  6.6171e+00],\n",
            "        [ 6.8163e+00, -9.4666e+00, -5.1873e+00, -8.6949e+00,  1.0285e+01,\n",
            "         -6.4453e+00, -6.5115e+00,  8.6336e+00, -6.2254e+00,  1.1516e+00],\n",
            "        [ 1.0760e+01, -7.7746e+00, -4.9442e+00, -1.0810e+01,  1.9354e+01,\n",
            "          1.0475e+01, -3.7396e+00,  2.1788e+00, -1.1034e+01,  8.6598e+00],\n",
            "        [ 8.0011e+00, -7.8609e+00, -5.9001e-01, -8.3030e+00,  1.2432e+01,\n",
            "          9.7151e+00, -1.6988e+01,  8.4087e+00, -1.7201e+00, -2.4460e-01],\n",
            "        [ 4.0217e+00, -9.0164e+00, -3.5021e+00, -1.2601e+01,  2.0098e+01,\n",
            "         -2.1067e+00, -5.1926e+00,  1.1027e+01, -1.1669e+01,  3.7689e+00],\n",
            "        [ 1.6625e+01, -6.0890e+00, -1.9286e+00, -1.2837e+01,  9.6603e+00,\n",
            "         -9.5596e+00, -8.5009e+00,  7.0337e+00, -1.9842e+01,  1.6562e-02],\n",
            "        [ 8.5749e+00,  5.2383e-01, -7.2554e+00, -1.4677e+01,  9.6714e-01,\n",
            "         -5.0603e+00, -1.9610e+01,  8.0008e+00, -1.7464e+01,  3.8153e+00],\n",
            "        [ 1.2726e+01, -3.7456e+00, -1.0129e+01, -1.3104e+01,  9.1914e+00,\n",
            "         -7.0814e-01, -8.5205e+00,  6.6045e+00, -9.6090e+00,  2.8505e+00],\n",
            "        [ 1.7651e+01, -1.4505e+01, -2.7505e-01, -1.9511e+01,  1.6119e+01,\n",
            "         -5.3276e+00, -1.4922e+01,  1.1152e+01, -1.4678e+01, -8.0419e-01],\n",
            "        [ 7.7972e+00,  2.6813e-01, -1.1399e+01, -1.7339e+01,  1.0757e+00,\n",
            "         -5.4713e-01, -1.2400e+01,  6.1006e+00, -8.0953e+00,  5.2598e+00],\n",
            "        [ 2.1248e+01, -6.0489e+00, -4.2465e+00, -7.8197e+00,  9.2990e+00,\n",
            "          2.6791e-01, -8.9471e+00,  2.1964e-01, -9.1012e+00,  9.1374e+00],\n",
            "        [ 1.5829e+01,  2.0204e+00, -2.5257e+00, -1.6040e+01,  9.4764e+00,\n",
            "         -1.0258e+01, -7.9021e+00,  8.5102e+00, -2.4430e+01,  2.1257e+00],\n",
            "        [ 1.3618e+01, -7.9063e+00, -3.6469e+00, -9.0341e+00,  1.6307e+01,\n",
            "         -1.2543e+00, -1.7147e+01,  9.6189e+00, -6.5508e+00,  7.3349e+00],\n",
            "        [ 1.2032e+01, -8.2912e+00, -5.9529e-02, -2.0483e+01, -3.3655e+00,\n",
            "         -2.1707e+00, -1.4961e+01,  7.5548e+00, -7.3199e+00,  6.6380e+00],\n",
            "        [ 1.6823e+01, -4.1004e+00, -8.5869e+00, -1.4610e+01,  1.2544e+01,\n",
            "         -5.8965e+00, -8.1094e+00,  3.6805e+00, -1.6902e+01,  6.6187e+00],\n",
            "        [ 1.0600e+01, -1.9273e+00, -6.1501e+00, -1.5958e+01,  1.7698e+01,\n",
            "          5.3471e+00, -1.4433e+01,  3.6705e+00, -3.0240e+00,  4.6963e+00],\n",
            "        [ 4.0082e+00, -1.1566e+01, -1.1921e+01, -5.8958e+00,  7.5439e+00,\n",
            "         -5.3209e+00, -1.7032e+01,  7.7818e+00, -9.5661e+00,  1.1442e+01],\n",
            "        [ 9.6793e+00, -6.2383e+00, -2.1173e+00, -1.2535e+01,  1.0119e+01,\n",
            "         -9.2471e+00, -2.1241e+01,  7.5897e+00, -1.1927e+01,  1.1710e+01],\n",
            "        [ 9.7162e+00,  3.0174e+00, -6.1552e+00, -1.2123e+01,  1.0218e+01,\n",
            "         -3.0586e+00, -1.2046e+01,  8.9242e+00, -1.1078e+01,  7.8539e+00],\n",
            "        [ 7.4340e+00, -8.2033e+00, -5.5259e+00, -6.6342e+00,  6.1880e+00,\n",
            "         -6.0626e+00, -8.8704e+00,  1.2349e+01, -9.9177e+00,  3.5404e+00],\n",
            "        [ 1.6155e+01, -1.1161e+01, -4.5981e+00, -5.5457e+00,  3.8367e+00,\n",
            "          8.3247e+00, -1.4227e+01,  1.3126e+01, -1.0211e+01, -3.6273e+00],\n",
            "        [ 1.3211e+01, -4.5902e+00, -4.9697e+00, -1.4675e+01,  9.6405e+00,\n",
            "          1.8653e+00, -1.2237e+01,  6.8973e+00, -9.1131e+00, -1.2669e-01],\n",
            "        [ 1.6571e-01, -9.3583e+00,  2.0394e+00, -1.5203e+01,  6.2654e+00,\n",
            "         -1.2870e+01, -9.2896e+00,  5.8015e+00, -1.2820e+01,  7.8791e+00],\n",
            "        [ 1.8205e+01,  2.6505e+00, -3.9172e+00, -7.5159e+00,  7.4194e+00,\n",
            "         -5.5896e+00, -1.4406e+01,  9.6988e+00, -9.5109e+00,  9.5122e+00],\n",
            "        [ 1.6445e+01,  8.9684e+00, -7.4610e+00, -1.5476e+01,  1.1119e+01,\n",
            "          3.0756e+00, -5.0170e+00,  1.2107e+00, -6.4412e+00,  3.6977e+00],\n",
            "        [ 2.2317e+01,  2.3071e+00,  6.5571e+00, -8.5497e+00,  2.3939e+01,\n",
            "         -3.6816e+00, -1.9314e+00,  5.1401e+00, -1.2425e+01,  6.1836e+00],\n",
            "        [ 1.6044e+01, -1.5838e+01,  7.4284e+00, -9.1819e+00, -3.7743e-01,\n",
            "         -5.9384e+00, -1.6871e+01,  7.6932e+00, -7.9430e+00,  9.4290e+00],\n",
            "        [ 1.3855e+01, -7.1616e+00, -7.1720e+00, -1.5446e+01,  3.7673e+00,\n",
            "         -4.9891e+00, -2.0104e+01,  1.5324e+00, -9.0796e+00,  9.0635e+00],\n",
            "        [ 1.2859e+01,  2.0513e+00, -4.6946e+00, -9.8741e+00,  9.4726e+00,\n",
            "         -2.5795e+00, -7.1936e+00,  3.0350e+00,  1.1613e+00,  6.8175e+00],\n",
            "        [ 1.7756e+01, -1.9133e-01, -5.6498e+00, -1.2785e+01,  1.3034e+01,\n",
            "          4.7424e-01, -4.4598e+00,  4.8036e+00, -1.4719e+01, -2.7888e+00],\n",
            "        [ 1.0382e+01, -1.2414e+01, -1.0509e+01, -6.8837e+00,  1.2583e+01,\n",
            "         -1.9881e+00, -9.3177e+00,  9.5759e+00,  6.8186e+00, -1.2456e+00],\n",
            "        [ 9.4396e+00,  2.2615e+00, -1.4284e+01,  3.2836e+00,  6.8741e+00,\n",
            "         -2.5110e+00, -2.0858e+01,  7.1193e+00,  3.1654e+00,  1.6261e+00],\n",
            "        [ 1.5095e+01,  9.1839e-03, -4.7891e+00, -1.3027e+01,  1.3557e+01,\n",
            "         -8.7993e+00, -1.8938e+01,  1.2289e+01, -1.0516e+01,  7.7440e+00],\n",
            "        [ 1.7499e+01, -7.1519e+00, -1.1867e+00, -1.1291e+01,  1.2165e+01,\n",
            "          7.2706e+00, -8.2634e+00,  8.1803e+00, -1.2304e+01,  2.3115e-01],\n",
            "        [ 1.4037e+01, -1.1077e+01,  2.7639e-01, -2.0185e+01,  1.5069e+01,\n",
            "          4.1408e+00, -2.1722e+01,  1.5905e+01, -1.8360e+01, -1.6771e+00],\n",
            "        [ 1.3493e+01, -1.9129e+01, -2.7835e+00, -2.0263e+01,  4.7889e+00,\n",
            "          8.9839e-02, -1.4289e+01,  1.4796e+01, -8.3742e+00,  6.3722e+00],\n",
            "        [ 1.3696e+01,  4.3132e-01, -1.3125e+01, -1.3744e+01,  1.5977e+01,\n",
            "         -3.0546e+00, -1.3455e+01,  2.1522e-01, -1.2075e+01,  1.0958e+00],\n",
            "        [ 1.6523e+00, -1.5725e+01,  5.1805e-01, -1.5550e+01,  6.9600e+00,\n",
            "         -5.2271e+00, -1.8090e+01,  7.5431e+00, -1.0557e+01,  3.2606e+00],\n",
            "        [ 2.3323e+01, -8.8113e+00,  4.0048e+00, -2.0971e+01,  1.1612e+01,\n",
            "          6.4335e+00, -4.9535e+00,  7.6080e+00, -6.8721e+00,  1.2614e+01],\n",
            "        [ 7.0731e+00, -4.8001e+00, -1.6978e+00, -1.5037e+01,  2.6035e+01,\n",
            "          9.1776e-01, -1.2145e+01,  1.9247e+01, -8.1995e+00,  2.2262e+00],\n",
            "        [ 1.5988e+01, -5.7692e+00, -7.2947e+00, -6.9034e+00,  1.2613e+01,\n",
            "          7.5701e+00, -2.0211e+01,  1.6392e+00, -5.7379e+00,  1.3280e+00],\n",
            "        [ 1.3453e+01, -1.1206e+01, -1.3603e+01, -1.8748e+01,  3.5886e+00,\n",
            "         -9.7493e+00, -2.0068e+01,  3.5168e+00, -1.9910e+01, -4.8270e-01],\n",
            "        [ 1.2280e+01, -1.0018e+01,  3.7232e+00, -1.2682e+01,  2.6975e+01,\n",
            "          4.5651e-01, -1.5611e+01,  9.4634e+00, -9.8398e+00, -6.5920e+00],\n",
            "        [ 8.7211e+00, -8.1411e+00,  8.1744e-02, -7.3264e+00,  5.1437e+00,\n",
            "         -2.9953e+00, -1.8346e+01,  1.2108e+01, -9.2340e+00,  5.7020e+00],\n",
            "        [ 1.8161e+01, -6.8802e+00, -9.3861e+00, -1.0070e+01,  5.6744e+00,\n",
            "         -1.0631e+01, -1.4177e+01,  7.3382e+00, -1.0053e+01,  1.0024e+00],\n",
            "        [ 1.1873e+01, -7.5556e-01, -4.8905e+00, -1.3619e+01,  8.9430e+00,\n",
            "         -9.3062e+00, -1.4660e+01,  1.3790e+01, -1.1344e+01,  7.3162e+00],\n",
            "        [ 9.2666e+00, -2.8583e+00,  1.7029e+00, -1.3105e+01,  8.7223e+00,\n",
            "          5.3089e+00, -2.7971e+00,  8.2906e+00, -1.5196e+01,  7.5037e+00],\n",
            "        [ 1.6566e+01, -9.3060e+00, -8.9188e+00, -7.2242e+00,  1.5385e+01,\n",
            "         -5.5759e+00, -1.3853e+01,  1.9482e+01, -4.9886e+00,  4.6640e+00],\n",
            "        [ 1.1390e+01,  8.1124e-01, -9.1015e+00, -2.3744e+00,  2.0867e+01,\n",
            "         -6.1149e-01, -2.7509e+01,  1.1922e+01, -8.6206e+00,  2.9071e+00],\n",
            "        [ 1.6113e+01, -2.2612e+00,  2.1179e+00, -3.8781e+00,  7.1437e+00,\n",
            "          5.5723e+00,  7.3295e-01,  5.2460e-01, -1.1389e+01,  6.2941e+00],\n",
            "        [ 1.0838e+01, -8.1288e+00, -8.6812e+00,  5.3791e+00,  3.9796e+00,\n",
            "          6.5649e-01, -1.6042e+01,  9.6500e+00, -5.7119e+00,  4.7164e+00],\n",
            "        [ 1.1433e+01, -5.3138e+00, -4.7762e+00, -1.1323e+01,  3.5424e+00,\n",
            "         -7.7784e+00, -1.7882e+01,  1.7536e+01, -9.7274e+00,  1.0149e+00],\n",
            "        [ 1.2045e+01,  3.5464e-01, -3.0644e+00, -4.2403e+00,  1.8347e+01,\n",
            "         -4.1452e+00, -8.9406e+00,  8.5843e+00, -6.3783e+00,  3.6886e+00],\n",
            "        [ 9.5517e+00, -4.3566e+00, -3.1649e+00, -5.3663e+00,  1.4377e+01,\n",
            "          4.2804e+00, -1.7663e+01,  1.0012e+01, -1.5622e+01,  5.4846e+00],\n",
            "        [ 1.6502e+01,  6.1081e-01, -1.9472e+00, -1.2156e+01, -2.6133e+00,\n",
            "         -6.6729e+00, -1.4448e+01,  1.0929e+01, -7.9340e+00, -1.2623e-01],\n",
            "        [ 7.2080e+00, -6.0244e+00,  1.9552e-01, -8.8550e+00,  1.5616e+01,\n",
            "         -6.9186e+00, -7.1234e+00, -5.8872e-01, -1.8610e+01,  1.6787e+01],\n",
            "        [ 1.0830e+01,  4.9933e-01, -4.3725e+00, -1.1440e+01,  1.0135e+01,\n",
            "          9.9642e-01, -1.0289e+01,  3.1063e+00, -1.0264e+01,  1.1867e+01],\n",
            "        [ 8.4340e+00, -1.3717e+01, -1.2107e+01, -8.3776e+00,  1.0051e+01,\n",
            "         -3.5081e+00, -1.6625e+01,  1.1584e+01,  1.3804e+00,  2.9751e+00]])\n"
          ],
          "name": "stdout"
        }
      ]
    },
    {
      "cell_type": "code",
      "metadata": {
        "id": "DaRVBgB7HZSq",
        "colab_type": "code",
        "colab": {
          "base_uri": "https://localhost:8080/",
          "height": 168
        },
        "outputId": "4db7b476-1fa5-4f09-faa9-ca7932e8dc37"
      },
      "source": [
        "def softmax(x):\n",
        "    return torch.exp(x)/torch.sum(torch.exp(x), dim=1).view(-1, 1)\n",
        "\n",
        "probs = softmax(out)\n",
        "\n",
        "print(probs.shape)\n",
        "print(probs.sum(dim=1))"
      ],
      "execution_count": 11,
      "outputs": [
        {
          "output_type": "stream",
          "text": [
            "torch.Size([64, 10])\n",
            "tensor([1.0000, 1.0000, 1.0000, 1.0000, 1.0000, 1.0000, 1.0000, 1.0000, 1.0000,\n",
            "        1.0000, 1.0000, 1.0000, 1.0000, 1.0000, 1.0000, 1.0000, 1.0000, 1.0000,\n",
            "        1.0000, 1.0000, 1.0000, 1.0000, 1.0000, 1.0000, 1.0000, 1.0000, 1.0000,\n",
            "        1.0000, 1.0000, 1.0000, 1.0000, 1.0000, 1.0000, 1.0000, 1.0000, 1.0000,\n",
            "        1.0000, 1.0000, 1.0000, 1.0000, 1.0000, 1.0000, 1.0000, 1.0000, 1.0000,\n",
            "        1.0000, 1.0000, 1.0000, 1.0000, 1.0000, 1.0000, 1.0000, 1.0000, 1.0000,\n",
            "        1.0000, 1.0000, 1.0000, 1.0000, 1.0000, 1.0000, 1.0000, 1.0000, 1.0000,\n",
            "        1.0000])\n"
          ],
          "name": "stdout"
        }
      ]
    },
    {
      "cell_type": "code",
      "metadata": {
        "id": "HvkASTDDIeKm",
        "colab_type": "code",
        "colab": {}
      },
      "source": [
        "from torch import nn"
      ],
      "execution_count": 0,
      "outputs": []
    },
    {
      "cell_type": "code",
      "metadata": {
        "id": "pL-NAg1lJB9l",
        "colab_type": "code",
        "colab": {}
      },
      "source": [
        "class Network(nn.Module):\n",
        "    \n",
        "    def __init__(self):\n",
        "        super().__init__()\n",
        "        \n",
        "        # Inputs to hidden layer linear transformation.\n",
        "        \n",
        "        self.hidden = nn.Linear(784, 256)\n",
        "        \n",
        "        #output Layers\n",
        "        \n",
        "        self.output = nn.Linear(256, 10)\n",
        "        \n",
        "        # sigmoid and softmax\n",
        "        \n",
        "        self.sigmoid = nn.Sigmoid()\n",
        "        self.softmax = nn.Softmax(dim=1)\n",
        "        \n",
        "        \n",
        "    def forward(self):\n",
        "        \n",
        "        # pass the input tensor through each of our operations\n",
        "        \n",
        "        x = self.hidden(x)\n",
        "        x = self.sigmoid(x)\n",
        "        x = self.output(x)\n",
        "        x = self.softmax(x)\n",
        "        \n",
        "        return x"
      ],
      "execution_count": 0,
      "outputs": []
    },
    {
      "cell_type": "code",
      "metadata": {
        "id": "RdA86BN6Kt1v",
        "colab_type": "code",
        "colab": {
          "base_uri": "https://localhost:8080/",
          "height": 118
        },
        "outputId": "4aacc72e-974b-49bf-a523-4e60ed176806"
      },
      "source": [
        "model = Network()\n",
        "print(model)"
      ],
      "execution_count": 14,
      "outputs": [
        {
          "output_type": "stream",
          "text": [
            "Network(\n",
            "  (hidden): Linear(in_features=784, out_features=256, bias=True)\n",
            "  (output): Linear(in_features=256, out_features=10, bias=True)\n",
            "  (sigmoid): Sigmoid()\n",
            "  (softmax): Softmax()\n",
            ")\n"
          ],
          "name": "stdout"
        }
      ]
    },
    {
      "cell_type": "code",
      "metadata": {
        "id": "nDR6aSvaK2TG",
        "colab_type": "code",
        "colab": {}
      },
      "source": [
        "class Network(nn.Module):\n",
        "    \n",
        "    def __init__(self):\n",
        "        super().__init__()\n",
        "        \n",
        "        # Inputs to hidden layer linear transformation.\n",
        "        \n",
        "        self.hidden = nn.Linear(784, 256)\n",
        "        \n",
        "        #output Layers\n",
        "        \n",
        "        self.output = nn.Linear(256, 10)\n",
        "        \n",
        "        # sigmoid and softmax\n",
        "        \n",
        "        self.sigmoid = nn.Sigmoid()\n",
        "        self.relu = nn.ReLU()\n",
        "        self.softmax = nn.Softmax(dim=1)\n",
        "        \n",
        "        \n",
        "    def forward(self):\n",
        "        \n",
        "        # pass the input tensor through each of our operations\n",
        "        \n",
        "        x = self.hidden(x)\n",
        "        x = self.relu(x)\n",
        "        x = self.output(x)\n",
        "        x = self.softmax(x)\n",
        "        \n",
        "        return x"
      ],
      "execution_count": 0,
      "outputs": []
    },
    {
      "cell_type": "code",
      "metadata": {
        "id": "KP5YmVZw18jK",
        "colab_type": "code",
        "colab": {
          "base_uri": "https://localhost:8080/",
          "height": 134
        },
        "outputId": "e4de5c1c-6145-45b9-923e-802756215f9a"
      },
      "source": [
        "model = Network()\n",
        "print(model)"
      ],
      "execution_count": 22,
      "outputs": [
        {
          "output_type": "stream",
          "text": [
            "Network(\n",
            "  (hidden): Linear(in_features=784, out_features=256, bias=True)\n",
            "  (output): Linear(in_features=256, out_features=10, bias=True)\n",
            "  (sigmoid): Sigmoid()\n",
            "  (relu): ReLU()\n",
            "  (softmax): Softmax()\n",
            ")\n"
          ],
          "name": "stdout"
        }
      ]
    },
    {
      "cell_type": "code",
      "metadata": {
        "id": "cWp0-iuR2BRz",
        "colab_type": "code",
        "colab": {}
      },
      "source": [
        ""
      ],
      "execution_count": 0,
      "outputs": []
    }
  ]
}