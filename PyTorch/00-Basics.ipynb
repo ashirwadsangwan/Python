{
  "nbformat": 4,
  "nbformat_minor": 0,
  "metadata": {
    "colab": {
      "name": "00-Basics.ipynb",
      "version": "0.3.2",
      "provenance": [],
      "include_colab_link": true
    },
    "kernelspec": {
      "name": "python3",
      "display_name": "Python 3"
    },
    "accelerator": "GPU"
  },
  "cells": [
    {
      "cell_type": "markdown",
      "metadata": {
        "id": "view-in-github",
        "colab_type": "text"
      },
      "source": [
        "<a href=\"https://colab.research.google.com/github/ashirwadsangwan/Python/blob/master/PyTorch/00-Basics.ipynb\" target=\"_parent\"><img src=\"https://colab.research.google.com/assets/colab-badge.svg\" alt=\"Open In Colab\"/></a>"
      ]
    },
    {
      "cell_type": "code",
      "metadata": {
        "id": "5Ht7V7bgJLdF",
        "colab_type": "code",
        "colab": {}
      },
      "source": [
        "import torch\n",
        "import numpy as np"
      ],
      "execution_count": 0,
      "outputs": []
    },
    {
      "cell_type": "code",
      "metadata": {
        "id": "_zGCZ7wwJUoj",
        "colab_type": "code",
        "outputId": "f96c3bd3-9192-4567-d709-e949c38febcd",
        "colab": {
          "base_uri": "https://localhost:8080/",
          "height": 34
        }
      },
      "source": [
        "t = torch.Tensor()\n",
        "type(t)"
      ],
      "execution_count": 2,
      "outputs": [
        {
          "output_type": "execute_result",
          "data": {
            "text/plain": [
              "torch.Tensor"
            ]
          },
          "metadata": {
            "tags": []
          },
          "execution_count": 2
        }
      ]
    },
    {
      "cell_type": "code",
      "metadata": {
        "id": "-892A3UJJafT",
        "colab_type": "code",
        "outputId": "8d7670b7-08b6-44b0-9c8c-2ebe4530f997",
        "colab": {
          "base_uri": "https://localhost:8080/",
          "height": 67
        }
      },
      "source": [
        "print(t.dtype)\n",
        "print(t.device)\n",
        "print(t.layout)"
      ],
      "execution_count": 3,
      "outputs": [
        {
          "output_type": "stream",
          "text": [
            "torch.float32\n",
            "cpu\n",
            "torch.strided\n"
          ],
          "name": "stdout"
        }
      ]
    },
    {
      "cell_type": "markdown",
      "metadata": {
        "id": "J0ihsCELKvbc",
        "colab_type": "text"
      },
      "source": [
        "In computer programming, the stride of an array (also referred to as increment, pitch or step size) is the number of locations in memory between beginnings of successive array elements, measured in bytes or in units of the size of the array's elements. The stride cannot be smaller than the element size but can be larger, indicating extra space between elements."
      ]
    },
    {
      "cell_type": "code",
      "metadata": {
        "id": "ZeUKNM2EJpIG",
        "colab_type": "code",
        "colab": {}
      },
      "source": [
        "def activation(x):\n",
        "    \n",
        "    '''\n",
        "    This is Sigmoid activation function.\n",
        "    \n",
        "    Input : Tensor\n",
        "    '''\n",
        "    return 1/(1 + torch.exp(-x))"
      ],
      "execution_count": 0,
      "outputs": []
    },
    {
      "cell_type": "markdown",
      "metadata": {
        "id": "9412H7p62gyU",
        "colab_type": "text"
      },
      "source": [
        "Now, we'll generate some random data to try our first neural network."
      ]
    },
    {
      "cell_type": "code",
      "metadata": {
        "id": "IO17Taay2VmP",
        "colab_type": "code",
        "colab": {}
      },
      "source": [
        "torch.manual_seed(7)\n",
        "\n",
        "features = torch.randn((1, 5))\n",
        "weights = torch.randn_like(features)\n",
        "bias = torch.randn((1,1))"
      ],
      "execution_count": 0,
      "outputs": []
    },
    {
      "cell_type": "code",
      "metadata": {
        "id": "0cQlNk6v2rjF",
        "colab_type": "code",
        "colab": {
          "base_uri": "https://localhost:8080/",
          "height": 34
        },
        "outputId": "64b1e83e-f392-4dca-c3f6-cc0daa7df5bd"
      },
      "source": [
        "z = torch.sum(features * weights) + bias\n",
        "\n",
        "y = activation(z)\n",
        "print(y)"
      ],
      "execution_count": 13,
      "outputs": [
        {
          "output_type": "stream",
          "text": [
            "tensor([[0.1595]])\n"
          ],
          "name": "stdout"
        }
      ]
    },
    {
      "cell_type": "markdown",
      "metadata": {
        "id": "f8bprNqt4Sue",
        "colab_type": "text"
      },
      "source": [
        "Or we can do the same calculation using `torch.mm` or `torch.matmul` which is used for matrix multiplication."
      ]
    },
    {
      "cell_type": "code",
      "metadata": {
        "id": "9f1cvFNh35f5",
        "colab_type": "code",
        "colab": {
          "base_uri": "https://localhost:8080/",
          "height": 34
        },
        "outputId": "ae32ec88-8c73-417b-e9b7-41f0ade1bddd"
      },
      "source": [
        "# z = torch.mm(features, weights) + bias\n",
        "# y = activation(z)\n",
        "\n",
        "\n",
        "# So this thing here gives us an error which says that we have size mismatch in the matrices.\n",
        "# So, we'll reshape the weights matrix to be compatible with the size.\n",
        "\n",
        "weights = weights.reshape(5,1)\n",
        "z = torch.mm(features, weights) + bias\n",
        "y = activation(z)\n",
        "\n",
        "print(y)"
      ],
      "execution_count": 16,
      "outputs": [
        {
          "output_type": "stream",
          "text": [
            "tensor([[0.1595]])\n"
          ],
          "name": "stdout"
        }
      ]
    },
    {
      "cell_type": "markdown",
      "metadata": {
        "id": "596_AuC36MeH",
        "colab_type": "text"
      },
      "source": [
        "Alternatively, we can do it like this"
      ]
    },
    {
      "cell_type": "code",
      "metadata": {
        "id": "xYCUa5Ue4n9g",
        "colab_type": "code",
        "colab": {
          "base_uri": "https://localhost:8080/",
          "height": 34
        },
        "outputId": "5b38f993-b3d0-4b1a-f388-0876b5d95a61"
      },
      "source": [
        "z = torch.mm(features, weights.view(5,1)) + bias\n",
        "y = activation(z)\n",
        "print(y)"
      ],
      "execution_count": 17,
      "outputs": [
        {
          "output_type": "stream",
          "text": [
            "tensor([[0.1595]])\n"
          ],
          "name": "stdout"
        }
      ]
    },
    {
      "cell_type": "markdown",
      "metadata": {
        "id": "WbIgQj3261pm",
        "colab_type": "text"
      },
      "source": [
        "Creating a multilayer network!"
      ]
    },
    {
      "cell_type": "code",
      "metadata": {
        "id": "YTUjyr-56caz",
        "colab_type": "code",
        "colab": {}
      },
      "source": [
        "features = torch.randn((1,3))\n",
        "\n",
        "n_input = features.shape[1]\n",
        "n_hidden = 2\n",
        "n_output = 1\n",
        "\n",
        "# weights for input layer\n",
        "\n",
        "w1 = torch.randn(n_input, n_hidden)\n",
        "b1 = torch.randn(1, n_hidden)\n",
        "\n",
        "# weights for hidden layer to output layer\n",
        "\n",
        "w2 = torch.randn(n_hidden, n_output)\n",
        "b2 = torch.randn(1, n_output)"
      ],
      "execution_count": 0,
      "outputs": []
    },
    {
      "cell_type": "code",
      "metadata": {
        "id": "Ds7PyoHs8KLU",
        "colab_type": "code",
        "colab": {
          "base_uri": "https://localhost:8080/",
          "height": 34
        },
        "outputId": "df8839c8-2a22-4234-b9d1-1caaf43cac58"
      },
      "source": [
        "hidden = activation(torch.mm(features, w1) + b1)\n",
        "output = activation(torch.mm(hidden, w2) + b2)\n",
        "\n",
        "print(output)"
      ],
      "execution_count": 19,
      "outputs": [
        {
          "output_type": "stream",
          "text": [
            "tensor([[0.6282]])\n"
          ],
          "name": "stdout"
        }
      ]
    },
    {
      "cell_type": "code",
      "metadata": {
        "id": "hQhNNXP184Jz",
        "colab_type": "code",
        "colab": {}
      },
      "source": [
        ""
      ],
      "execution_count": 0,
      "outputs": []
    }
  ]
}